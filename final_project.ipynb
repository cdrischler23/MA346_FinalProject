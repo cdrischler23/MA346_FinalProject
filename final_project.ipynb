{
 "cells": [
  {
   "cell_type": "markdown",
   "source": "# MA 346 Final Project: Logistic Regression - Predicting Titanic Survival",
   "metadata": {
    "cell_id": "b00a55e7d9e2483ca250d1872dd83cab",
    "tags": [],
    "is_collapsed": false,
    "deepnote_cell_type": "text-cell-h1"
   }
  },
  {
   "cell_type": "markdown",
   "source": "### By Carly Drischler",
   "metadata": {
    "cell_id": "6c71bb390b5542938dfa8d3ee591b86b",
    "tags": [],
    "is_collapsed": false,
    "deepnote_cell_type": "text-cell-h3"
   }
  },
  {
   "cell_type": "markdown",
   "source": "## Data Background and Goals",
   "metadata": {
    "cell_id": "623ce75d982c426bb09a6cef60551b1f",
    "tags": [],
    "is_collapsed": false,
    "deepnote_cell_type": "text-cell-h2"
   }
  },
  {
   "cell_type": "markdown",
   "source": "The dataset used for this project comes from Kaggle, an online data science community that enables their users to upload, download, and explore datasets, build models, work with others in the community, and even enter competitions. \n\nIn particular, my dataset includes information regarding the passengers of the maiden voyage of the Titanic. This data includes information regarding the passengers age, gender, fare amount, whether or not they survived the wreckage, and more. The goal of this project is to build a model that is good at predicting whether or not an individual with particular characteristics would have survived. It is important to note that I ran multiple logistic regression models and analyzed their results. Keeping this in mind, I will be showing the best model I found, and comparing it to a much poorer one.\n\nLink to the dataset used for this project: https://www.kaggle.com/datasets/yasserh/titanic-dataset\n",
   "metadata": {
    "cell_id": "c8e5ba5aa7f64af499bfeacdf6b2d0fd",
    "tags": [],
    "deepnote_cell_type": "markdown",
    "deepnote_cell_height": 237.125
   }
  },
  {
   "cell_type": "markdown",
   "source": "## Getting Our Data Ready",
   "metadata": {
    "cell_id": "9674f3aa68e74617a2c1703b27252df0",
    "tags": [],
    "is_collapsed": false,
    "deepnote_cell_type": "text-cell-h2"
   }
  },
  {
   "cell_type": "markdown",
   "source": "First, let us import the necessary modules for coding.",
   "metadata": {
    "cell_id": "4a1d876542b045ea8a17691082f7ee12",
    "tags": [],
    "deepnote_cell_type": "markdown",
    "deepnote_cell_height": 52.390625
   }
  },
  {
   "cell_type": "code",
   "metadata": {
    "tags": [],
    "cell_id": "95bdc38e-195d-48f4-a4d9-44c6a8753b67",
    "deepnote_to_be_reexecuted": false,
    "source_hash": "e4b2820f",
    "execution_start": 1650910918363,
    "execution_millis": 1962,
    "deepnote_cell_type": "code",
    "deepnote_cell_height": 171
   },
   "source": "import pandas as pd\nimport numpy as np\nimport pingouin as pg\nimport matplotlib.pyplot as plt\nfrom sklearn.linear_model import LogisticRegression\nimport seaborn as sns",
   "execution_count": 1,
   "outputs": []
  },
  {
   "cell_type": "markdown",
   "source": "Success! No output means no errors.\n\nLet's read in our data set and take a look at the first few rows. ",
   "metadata": {
    "cell_id": "c44555b40fb14f78a673fc27d4c9fc78",
    "tags": [],
    "deepnote_cell_type": "markdown",
    "deepnote_cell_height": 88.78125
   }
  },
  {
   "cell_type": "code",
   "metadata": {
    "cell_id": "922a81ef12a74e08be4b082942736f2d",
    "tags": [],
    "deepnote_to_be_reexecuted": false,
    "source_hash": "1e8cf26e",
    "execution_start": 1650910920334,
    "execution_millis": 86,
    "deepnote_table_state": {
     "pageSize": 10,
     "pageIndex": 0,
     "filters": [],
     "sortBy": []
    },
    "deepnote_table_loading": false,
    "deepnote_cell_type": "code",
    "deepnote_cell_height": 413
   },
   "source": "df = pd.read_csv('Titanic-Dataset.csv')\ndf.head()",
   "execution_count": 2,
   "outputs": [
    {
     "output_type": "execute_result",
     "execution_count": 2,
     "data": {
      "application/vnd.deepnote.dataframe.v3+json": {
       "column_count": 12,
       "row_count": 5,
       "columns": [
        {
         "name": "PassengerId",
         "dtype": "int64",
         "stats": {
          "unique_count": 5,
          "nan_count": 0,
          "min": "1",
          "max": "5",
          "histogram": [
           {
            "bin_start": 1,
            "bin_end": 1.4,
            "count": 1
           },
           {
            "bin_start": 1.4,
            "bin_end": 1.8,
            "count": 0
           },
           {
            "bin_start": 1.8,
            "bin_end": 2.2,
            "count": 1
           },
           {
            "bin_start": 2.2,
            "bin_end": 2.6,
            "count": 0
           },
           {
            "bin_start": 2.6,
            "bin_end": 3,
            "count": 0
           },
           {
            "bin_start": 3,
            "bin_end": 3.4000000000000004,
            "count": 1
           },
           {
            "bin_start": 3.4000000000000004,
            "bin_end": 3.8000000000000003,
            "count": 0
           },
           {
            "bin_start": 3.8000000000000003,
            "bin_end": 4.2,
            "count": 1
           },
           {
            "bin_start": 4.2,
            "bin_end": 4.6,
            "count": 0
           },
           {
            "bin_start": 4.6,
            "bin_end": 5,
            "count": 1
           }
          ]
         }
        },
        {
         "name": "Survived",
         "dtype": "int64",
         "stats": {
          "unique_count": 2,
          "nan_count": 0,
          "min": "0",
          "max": "1",
          "histogram": [
           {
            "bin_start": 0,
            "bin_end": 0.1,
            "count": 2
           },
           {
            "bin_start": 0.1,
            "bin_end": 0.2,
            "count": 0
           },
           {
            "bin_start": 0.2,
            "bin_end": 0.30000000000000004,
            "count": 0
           },
           {
            "bin_start": 0.30000000000000004,
            "bin_end": 0.4,
            "count": 0
           },
           {
            "bin_start": 0.4,
            "bin_end": 0.5,
            "count": 0
           },
           {
            "bin_start": 0.5,
            "bin_end": 0.6000000000000001,
            "count": 0
           },
           {
            "bin_start": 0.6000000000000001,
            "bin_end": 0.7000000000000001,
            "count": 0
           },
           {
            "bin_start": 0.7000000000000001,
            "bin_end": 0.8,
            "count": 0
           },
           {
            "bin_start": 0.8,
            "bin_end": 0.9,
            "count": 0
           },
           {
            "bin_start": 0.9,
            "bin_end": 1,
            "count": 3
           }
          ]
         }
        },
        {
         "name": "Pclass",
         "dtype": "int64",
         "stats": {
          "unique_count": 2,
          "nan_count": 0,
          "min": "1",
          "max": "3",
          "histogram": [
           {
            "bin_start": 1,
            "bin_end": 1.2,
            "count": 2
           },
           {
            "bin_start": 1.2,
            "bin_end": 1.4,
            "count": 0
           },
           {
            "bin_start": 1.4,
            "bin_end": 1.6,
            "count": 0
           },
           {
            "bin_start": 1.6,
            "bin_end": 1.8,
            "count": 0
           },
           {
            "bin_start": 1.8,
            "bin_end": 2,
            "count": 0
           },
           {
            "bin_start": 2,
            "bin_end": 2.2,
            "count": 0
           },
           {
            "bin_start": 2.2,
            "bin_end": 2.4000000000000004,
            "count": 0
           },
           {
            "bin_start": 2.4000000000000004,
            "bin_end": 2.6,
            "count": 0
           },
           {
            "bin_start": 2.6,
            "bin_end": 2.8,
            "count": 0
           },
           {
            "bin_start": 2.8,
            "bin_end": 3,
            "count": 3
           }
          ]
         }
        },
        {
         "name": "Name",
         "dtype": "object",
         "stats": {
          "unique_count": 5,
          "nan_count": 0,
          "categories": [
           {
            "name": "Braund, Mr. Owen Harris",
            "count": 1
           },
           {
            "name": "Cumings, Mrs. John Bradley (Florence Briggs Thayer)",
            "count": 1
           },
           {
            "name": "3 others",
            "count": 3
           }
          ]
         }
        },
        {
         "name": "Sex",
         "dtype": "object",
         "stats": {
          "unique_count": 2,
          "nan_count": 0,
          "categories": [
           {
            "name": "female",
            "count": 3
           },
           {
            "name": "male",
            "count": 2
           }
          ]
         }
        },
        {
         "name": "Age",
         "dtype": "float64",
         "stats": {
          "unique_count": 4,
          "nan_count": 0,
          "min": "22.0",
          "max": "38.0",
          "histogram": [
           {
            "bin_start": 22,
            "bin_end": 23.6,
            "count": 1
           },
           {
            "bin_start": 23.6,
            "bin_end": 25.2,
            "count": 0
           },
           {
            "bin_start": 25.2,
            "bin_end": 26.8,
            "count": 1
           },
           {
            "bin_start": 26.8,
            "bin_end": 28.4,
            "count": 0
           },
           {
            "bin_start": 28.4,
            "bin_end": 30,
            "count": 0
           },
           {
            "bin_start": 30,
            "bin_end": 31.6,
            "count": 0
           },
           {
            "bin_start": 31.6,
            "bin_end": 33.2,
            "count": 0
           },
           {
            "bin_start": 33.2,
            "bin_end": 34.8,
            "count": 0
           },
           {
            "bin_start": 34.8,
            "bin_end": 36.4,
            "count": 2
           },
           {
            "bin_start": 36.4,
            "bin_end": 38,
            "count": 1
           }
          ]
         }
        },
        {
         "name": "SibSp",
         "dtype": "int64",
         "stats": {
          "unique_count": 2,
          "nan_count": 0,
          "min": "0",
          "max": "1",
          "histogram": [
           {
            "bin_start": 0,
            "bin_end": 0.1,
            "count": 2
           },
           {
            "bin_start": 0.1,
            "bin_end": 0.2,
            "count": 0
           },
           {
            "bin_start": 0.2,
            "bin_end": 0.30000000000000004,
            "count": 0
           },
           {
            "bin_start": 0.30000000000000004,
            "bin_end": 0.4,
            "count": 0
           },
           {
            "bin_start": 0.4,
            "bin_end": 0.5,
            "count": 0
           },
           {
            "bin_start": 0.5,
            "bin_end": 0.6000000000000001,
            "count": 0
           },
           {
            "bin_start": 0.6000000000000001,
            "bin_end": 0.7000000000000001,
            "count": 0
           },
           {
            "bin_start": 0.7000000000000001,
            "bin_end": 0.8,
            "count": 0
           },
           {
            "bin_start": 0.8,
            "bin_end": 0.9,
            "count": 0
           },
           {
            "bin_start": 0.9,
            "bin_end": 1,
            "count": 3
           }
          ]
         }
        },
        {
         "name": "Parch",
         "dtype": "int64",
         "stats": {
          "unique_count": 1,
          "nan_count": 0,
          "min": "0",
          "max": "0",
          "histogram": [
           {
            "bin_start": -0.5,
            "bin_end": -0.4,
            "count": 0
           },
           {
            "bin_start": -0.4,
            "bin_end": -0.3,
            "count": 0
           },
           {
            "bin_start": -0.3,
            "bin_end": -0.19999999999999996,
            "count": 0
           },
           {
            "bin_start": -0.19999999999999996,
            "bin_end": -0.09999999999999998,
            "count": 0
           },
           {
            "bin_start": -0.09999999999999998,
            "bin_end": 0,
            "count": 0
           },
           {
            "bin_start": 0,
            "bin_end": 0.10000000000000009,
            "count": 5
           },
           {
            "bin_start": 0.10000000000000009,
            "bin_end": 0.20000000000000007,
            "count": 0
           },
           {
            "bin_start": 0.20000000000000007,
            "bin_end": 0.30000000000000004,
            "count": 0
           },
           {
            "bin_start": 0.30000000000000004,
            "bin_end": 0.4,
            "count": 0
           },
           {
            "bin_start": 0.4,
            "bin_end": 0.5,
            "count": 0
           }
          ]
         }
        },
        {
         "name": "Ticket",
         "dtype": "object",
         "stats": {
          "unique_count": 5,
          "nan_count": 0,
          "categories": [
           {
            "name": "A/5 21171",
            "count": 1
           },
           {
            "name": "PC 17599",
            "count": 1
           },
           {
            "name": "3 others",
            "count": 3
           }
          ]
         }
        },
        {
         "name": "Fare",
         "dtype": "float64",
         "stats": {
          "unique_count": 5,
          "nan_count": 0,
          "min": "7.25",
          "max": "71.2833",
          "histogram": [
           {
            "bin_start": 7.25,
            "bin_end": 13.65333,
            "count": 3
           },
           {
            "bin_start": 13.65333,
            "bin_end": 20.05666,
            "count": 0
           },
           {
            "bin_start": 20.05666,
            "bin_end": 26.459989999999998,
            "count": 0
           },
           {
            "bin_start": 26.459989999999998,
            "bin_end": 32.86332,
            "count": 0
           },
           {
            "bin_start": 32.86332,
            "bin_end": 39.26665,
            "count": 0
           },
           {
            "bin_start": 39.26665,
            "bin_end": 45.669979999999995,
            "count": 0
           },
           {
            "bin_start": 45.669979999999995,
            "bin_end": 52.07331,
            "count": 0
           },
           {
            "bin_start": 52.07331,
            "bin_end": 58.476639999999996,
            "count": 1
           },
           {
            "bin_start": 58.476639999999996,
            "bin_end": 64.87996999999999,
            "count": 0
           },
           {
            "bin_start": 64.87996999999999,
            "bin_end": 71.2833,
            "count": 1
           }
          ]
         }
        },
        {
         "name": "Cabin",
         "dtype": "object",
         "stats": {
          "unique_count": 2,
          "nan_count": 3,
          "categories": [
           {
            "name": "C85",
            "count": 1
           },
           {
            "name": "C123",
            "count": 1
           },
           {
            "name": "Missing",
            "count": 3
           }
          ]
         }
        },
        {
         "name": "Embarked",
         "dtype": "object",
         "stats": {
          "unique_count": 2,
          "nan_count": 0,
          "categories": [
           {
            "name": "S",
            "count": 4
           },
           {
            "name": "C",
            "count": 1
           }
          ]
         }
        },
        {
         "name": "_deepnote_index_column",
         "dtype": "int64"
        }
       ],
       "rows": [
        {
         "PassengerId": 1,
         "Survived": 0,
         "Pclass": 3,
         "Name": "Braund, Mr. Owen Harris",
         "Sex": "male",
         "Age": 22,
         "SibSp": 1,
         "Parch": 0,
         "Ticket": "A/5 21171",
         "Fare": 7.25,
         "Cabin": "nan",
         "Embarked": "S",
         "_deepnote_index_column": 0
        },
        {
         "PassengerId": 2,
         "Survived": 1,
         "Pclass": 1,
         "Name": "Cumings, Mrs. John Bradley (Florence Briggs Thayer)",
         "Sex": "female",
         "Age": 38,
         "SibSp": 1,
         "Parch": 0,
         "Ticket": "PC 17599",
         "Fare": 71.2833,
         "Cabin": "C85",
         "Embarked": "C",
         "_deepnote_index_column": 1
        },
        {
         "PassengerId": 3,
         "Survived": 1,
         "Pclass": 3,
         "Name": "Heikkinen, Miss. Laina",
         "Sex": "female",
         "Age": 26,
         "SibSp": 0,
         "Parch": 0,
         "Ticket": "STON/O2. 3101282",
         "Fare": 7.925,
         "Cabin": "nan",
         "Embarked": "S",
         "_deepnote_index_column": 2
        },
        {
         "PassengerId": 4,
         "Survived": 1,
         "Pclass": 1,
         "Name": "Futrelle, Mrs. Jacques Heath (Lily May Peel)",
         "Sex": "female",
         "Age": 35,
         "SibSp": 1,
         "Parch": 0,
         "Ticket": "113803",
         "Fare": 53.1,
         "Cabin": "C123",
         "Embarked": "S",
         "_deepnote_index_column": 3
        },
        {
         "PassengerId": 5,
         "Survived": 0,
         "Pclass": 3,
         "Name": "Allen, Mr. William Henry",
         "Sex": "male",
         "Age": 35,
         "SibSp": 0,
         "Parch": 0,
         "Ticket": "373450",
         "Fare": 8.05,
         "Cabin": "nan",
         "Embarked": "S",
         "_deepnote_index_column": 4
        }
       ]
      },
      "text/plain": "   PassengerId  Survived  Pclass  \\\n0            1         0       3   \n1            2         1       1   \n2            3         1       3   \n3            4         1       1   \n4            5         0       3   \n\n                                                Name     Sex   Age  SibSp  \\\n0                            Braund, Mr. Owen Harris    male  22.0      1   \n1  Cumings, Mrs. John Bradley (Florence Briggs Th...  female  38.0      1   \n2                             Heikkinen, Miss. Laina  female  26.0      0   \n3       Futrelle, Mrs. Jacques Heath (Lily May Peel)  female  35.0      1   \n4                           Allen, Mr. William Henry    male  35.0      0   \n\n   Parch            Ticket     Fare Cabin Embarked  \n0      0         A/5 21171   7.2500   NaN        S  \n1      0          PC 17599  71.2833   C85        C  \n2      0  STON/O2. 3101282   7.9250   NaN        S  \n3      0            113803  53.1000  C123        S  \n4      0            373450   8.0500   NaN        S  ",
      "text/html": "<div>\n<style scoped>\n    .dataframe tbody tr th:only-of-type {\n        vertical-align: middle;\n    }\n\n    .dataframe tbody tr th {\n        vertical-align: top;\n    }\n\n    .dataframe thead th {\n        text-align: right;\n    }\n</style>\n<table border=\"1\" class=\"dataframe\">\n  <thead>\n    <tr style=\"text-align: right;\">\n      <th></th>\n      <th>PassengerId</th>\n      <th>Survived</th>\n      <th>Pclass</th>\n      <th>Name</th>\n      <th>Sex</th>\n      <th>Age</th>\n      <th>SibSp</th>\n      <th>Parch</th>\n      <th>Ticket</th>\n      <th>Fare</th>\n      <th>Cabin</th>\n      <th>Embarked</th>\n    </tr>\n  </thead>\n  <tbody>\n    <tr>\n      <th>0</th>\n      <td>1</td>\n      <td>0</td>\n      <td>3</td>\n      <td>Braund, Mr. Owen Harris</td>\n      <td>male</td>\n      <td>22.0</td>\n      <td>1</td>\n      <td>0</td>\n      <td>A/5 21171</td>\n      <td>7.2500</td>\n      <td>NaN</td>\n      <td>S</td>\n    </tr>\n    <tr>\n      <th>1</th>\n      <td>2</td>\n      <td>1</td>\n      <td>1</td>\n      <td>Cumings, Mrs. John Bradley (Florence Briggs Th...</td>\n      <td>female</td>\n      <td>38.0</td>\n      <td>1</td>\n      <td>0</td>\n      <td>PC 17599</td>\n      <td>71.2833</td>\n      <td>C85</td>\n      <td>C</td>\n    </tr>\n    <tr>\n      <th>2</th>\n      <td>3</td>\n      <td>1</td>\n      <td>3</td>\n      <td>Heikkinen, Miss. Laina</td>\n      <td>female</td>\n      <td>26.0</td>\n      <td>0</td>\n      <td>0</td>\n      <td>STON/O2. 3101282</td>\n      <td>7.9250</td>\n      <td>NaN</td>\n      <td>S</td>\n    </tr>\n    <tr>\n      <th>3</th>\n      <td>4</td>\n      <td>1</td>\n      <td>1</td>\n      <td>Futrelle, Mrs. Jacques Heath (Lily May Peel)</td>\n      <td>female</td>\n      <td>35.0</td>\n      <td>1</td>\n      <td>0</td>\n      <td>113803</td>\n      <td>53.1000</td>\n      <td>C123</td>\n      <td>S</td>\n    </tr>\n    <tr>\n      <th>4</th>\n      <td>5</td>\n      <td>0</td>\n      <td>3</td>\n      <td>Allen, Mr. William Henry</td>\n      <td>male</td>\n      <td>35.0</td>\n      <td>0</td>\n      <td>0</td>\n      <td>373450</td>\n      <td>8.0500</td>\n      <td>NaN</td>\n      <td>S</td>\n    </tr>\n  </tbody>\n</table>\n</div>"
     },
     "metadata": {}
    }
   ]
  },
  {
   "cell_type": "markdown",
   "source": "Even from first glance, we can identify some issues with our data. For instance, we can see that a few columns, such as 'PassenderId' and 'Name' consist of unique or nearly unique data that add minimal value to our future analyses. \n\nSo, let's clean up the data a bit. To do this, we will remove these unique columns, remove any rows with missing data (to enable our regression analysis), and convert appropriate columns to integer values.",
   "metadata": {
    "cell_id": "afc745d34c374716b5427b38c55e65d2",
    "tags": [],
    "deepnote_cell_type": "markdown",
    "deepnote_cell_height": 133.5625
   }
  },
  {
   "cell_type": "code",
   "metadata": {
    "cell_id": "0c32d7eb98db48fc8540a5f34e6849d3",
    "tags": [],
    "deepnote_to_be_reexecuted": false,
    "source_hash": "82e3f5e9",
    "execution_start": 1650910920429,
    "execution_millis": 61,
    "deepnote_cell_type": "code",
    "deepnote_cell_height": 924
   },
   "source": "# Drop unique or nearly unique columns\ndf = df.drop(['PassengerId', 'Name', 'Ticket', 'Cabin'], axis=1)\n\n# Convert sex column to boolean for female (1) or male (0)\ndf['is_female'] = np.where(df['Sex'] == 'female', 1, 0)\ndf = df.drop('Sex', axis=1)\n\n# Must drop NaNs in order for regression to work\ndf = df.dropna()\n\n# Round numeric values to nearest whole number to allow for integer datatype\ndf = df.round(0)\ndf['Age'] = df['Age'].astype(int)\ndf['Fare'] = df['Fare'].astype(int)\n\n# Drop column (played with it, not really useful for analysis, not worth it to convert)\ndf = df.drop('Embarked', axis=1)\n\ndf",
   "execution_count": 3,
   "outputs": [
    {
     "output_type": "execute_result",
     "execution_count": 3,
     "data": {
      "application/vnd.deepnote.dataframe.v3+json": {
       "column_count": 7,
       "row_count": 712,
       "columns": [
        {
         "name": "Survived",
         "dtype": "int64",
         "stats": {
          "unique_count": 2,
          "nan_count": 0,
          "min": "0",
          "max": "1",
          "histogram": [
           {
            "bin_start": 0,
            "bin_end": 0.1,
            "count": 424
           },
           {
            "bin_start": 0.1,
            "bin_end": 0.2,
            "count": 0
           },
           {
            "bin_start": 0.2,
            "bin_end": 0.30000000000000004,
            "count": 0
           },
           {
            "bin_start": 0.30000000000000004,
            "bin_end": 0.4,
            "count": 0
           },
           {
            "bin_start": 0.4,
            "bin_end": 0.5,
            "count": 0
           },
           {
            "bin_start": 0.5,
            "bin_end": 0.6000000000000001,
            "count": 0
           },
           {
            "bin_start": 0.6000000000000001,
            "bin_end": 0.7000000000000001,
            "count": 0
           },
           {
            "bin_start": 0.7000000000000001,
            "bin_end": 0.8,
            "count": 0
           },
           {
            "bin_start": 0.8,
            "bin_end": 0.9,
            "count": 0
           },
           {
            "bin_start": 0.9,
            "bin_end": 1,
            "count": 288
           }
          ]
         }
        },
        {
         "name": "Pclass",
         "dtype": "int64",
         "stats": {
          "unique_count": 3,
          "nan_count": 0,
          "min": "1",
          "max": "3",
          "histogram": [
           {
            "bin_start": 1,
            "bin_end": 1.2,
            "count": 184
           },
           {
            "bin_start": 1.2,
            "bin_end": 1.4,
            "count": 0
           },
           {
            "bin_start": 1.4,
            "bin_end": 1.6,
            "count": 0
           },
           {
            "bin_start": 1.6,
            "bin_end": 1.8,
            "count": 0
           },
           {
            "bin_start": 1.8,
            "bin_end": 2,
            "count": 0
           },
           {
            "bin_start": 2,
            "bin_end": 2.2,
            "count": 173
           },
           {
            "bin_start": 2.2,
            "bin_end": 2.4000000000000004,
            "count": 0
           },
           {
            "bin_start": 2.4000000000000004,
            "bin_end": 2.6,
            "count": 0
           },
           {
            "bin_start": 2.6,
            "bin_end": 2.8,
            "count": 0
           },
           {
            "bin_start": 2.8,
            "bin_end": 3,
            "count": 355
           }
          ]
         }
        },
        {
         "name": "Age",
         "dtype": "int64",
         "stats": {
          "unique_count": 71,
          "nan_count": 0,
          "min": "0",
          "max": "80",
          "histogram": [
           {
            "bin_start": 0,
            "bin_end": 8,
            "count": 50
           },
           {
            "bin_start": 8,
            "bin_end": 16,
            "count": 33
           },
           {
            "bin_start": 16,
            "bin_end": 24,
            "count": 163
           },
           {
            "bin_start": 24,
            "bin_end": 32,
            "count": 182
           },
           {
            "bin_start": 32,
            "bin_end": 40,
            "count": 122
           },
           {
            "bin_start": 40,
            "bin_end": 48,
            "count": 74
           },
           {
            "bin_start": 48,
            "bin_end": 56,
            "count": 49
           },
           {
            "bin_start": 56,
            "bin_end": 64,
            "count": 26
           },
           {
            "bin_start": 64,
            "bin_end": 72,
            "count": 11
           },
           {
            "bin_start": 72,
            "bin_end": 80,
            "count": 2
           }
          ]
         }
        },
        {
         "name": "SibSp",
         "dtype": "int64",
         "stats": {
          "unique_count": 6,
          "nan_count": 0,
          "min": "0",
          "max": "5",
          "histogram": [
           {
            "bin_start": 0,
            "bin_end": 0.5,
            "count": 469
           },
           {
            "bin_start": 0.5,
            "bin_end": 1,
            "count": 0
           },
           {
            "bin_start": 1,
            "bin_end": 1.5,
            "count": 183
           },
           {
            "bin_start": 1.5,
            "bin_end": 2,
            "count": 0
           },
           {
            "bin_start": 2,
            "bin_end": 2.5,
            "count": 25
           },
           {
            "bin_start": 2.5,
            "bin_end": 3,
            "count": 0
           },
           {
            "bin_start": 3,
            "bin_end": 3.5,
            "count": 12
           },
           {
            "bin_start": 3.5,
            "bin_end": 4,
            "count": 0
           },
           {
            "bin_start": 4,
            "bin_end": 4.5,
            "count": 18
           },
           {
            "bin_start": 4.5,
            "bin_end": 5,
            "count": 5
           }
          ]
         }
        },
        {
         "name": "Parch",
         "dtype": "int64",
         "stats": {
          "unique_count": 7,
          "nan_count": 0,
          "min": "0",
          "max": "6",
          "histogram": [
           {
            "bin_start": 0,
            "bin_end": 0.6,
            "count": 519
           },
           {
            "bin_start": 0.6,
            "bin_end": 1.2,
            "count": 110
           },
           {
            "bin_start": 1.2,
            "bin_end": 1.7999999999999998,
            "count": 0
           },
           {
            "bin_start": 1.7999999999999998,
            "bin_end": 2.4,
            "count": 68
           },
           {
            "bin_start": 2.4,
            "bin_end": 3,
            "count": 0
           },
           {
            "bin_start": 3,
            "bin_end": 3.5999999999999996,
            "count": 5
           },
           {
            "bin_start": 3.5999999999999996,
            "bin_end": 4.2,
            "count": 4
           },
           {
            "bin_start": 4.2,
            "bin_end": 4.8,
            "count": 0
           },
           {
            "bin_start": 4.8,
            "bin_end": 5.3999999999999995,
            "count": 5
           },
           {
            "bin_start": 5.3999999999999995,
            "bin_end": 6,
            "count": 1
           }
          ]
         }
        },
        {
         "name": "Fare",
         "dtype": "int64",
         "stats": {
          "unique_count": 87,
          "nan_count": 0,
          "min": "0",
          "max": "512",
          "histogram": [
           {
            "bin_start": 0,
            "bin_end": 51.2,
            "count": 578
           },
           {
            "bin_start": 51.2,
            "bin_end": 102.4,
            "count": 86
           },
           {
            "bin_start": 102.4,
            "bin_end": 153.60000000000002,
            "count": 28
           },
           {
            "bin_start": 153.60000000000002,
            "bin_end": 204.8,
            "count": 2
           },
           {
            "bin_start": 204.8,
            "bin_end": 256,
            "count": 9
           },
           {
            "bin_start": 256,
            "bin_end": 307.20000000000005,
            "count": 6
           },
           {
            "bin_start": 307.20000000000005,
            "bin_end": 358.40000000000003,
            "count": 0
           },
           {
            "bin_start": 358.40000000000003,
            "bin_end": 409.6,
            "count": 0
           },
           {
            "bin_start": 409.6,
            "bin_end": 460.8,
            "count": 0
           },
           {
            "bin_start": 460.8,
            "bin_end": 512,
            "count": 3
           }
          ]
         }
        },
        {
         "name": "is_female",
         "dtype": "int64",
         "stats": {
          "unique_count": 2,
          "nan_count": 0,
          "min": "0",
          "max": "1",
          "histogram": [
           {
            "bin_start": 0,
            "bin_end": 0.1,
            "count": 453
           },
           {
            "bin_start": 0.1,
            "bin_end": 0.2,
            "count": 0
           },
           {
            "bin_start": 0.2,
            "bin_end": 0.30000000000000004,
            "count": 0
           },
           {
            "bin_start": 0.30000000000000004,
            "bin_end": 0.4,
            "count": 0
           },
           {
            "bin_start": 0.4,
            "bin_end": 0.5,
            "count": 0
           },
           {
            "bin_start": 0.5,
            "bin_end": 0.6000000000000001,
            "count": 0
           },
           {
            "bin_start": 0.6000000000000001,
            "bin_end": 0.7000000000000001,
            "count": 0
           },
           {
            "bin_start": 0.7000000000000001,
            "bin_end": 0.8,
            "count": 0
           },
           {
            "bin_start": 0.8,
            "bin_end": 0.9,
            "count": 0
           },
           {
            "bin_start": 0.9,
            "bin_end": 1,
            "count": 259
           }
          ]
         }
        },
        {
         "name": "_deepnote_index_column",
         "dtype": "int64"
        }
       ],
       "rows": [
        {
         "Survived": 0,
         "Pclass": 3,
         "Age": 22,
         "SibSp": 1,
         "Parch": 0,
         "Fare": 7,
         "is_female": 0,
         "_deepnote_index_column": 0
        },
        {
         "Survived": 1,
         "Pclass": 1,
         "Age": 38,
         "SibSp": 1,
         "Parch": 0,
         "Fare": 71,
         "is_female": 1,
         "_deepnote_index_column": 1
        },
        {
         "Survived": 1,
         "Pclass": 3,
         "Age": 26,
         "SibSp": 0,
         "Parch": 0,
         "Fare": 8,
         "is_female": 1,
         "_deepnote_index_column": 2
        },
        {
         "Survived": 1,
         "Pclass": 1,
         "Age": 35,
         "SibSp": 1,
         "Parch": 0,
         "Fare": 53,
         "is_female": 1,
         "_deepnote_index_column": 3
        },
        {
         "Survived": 0,
         "Pclass": 3,
         "Age": 35,
         "SibSp": 0,
         "Parch": 0,
         "Fare": 8,
         "is_female": 0,
         "_deepnote_index_column": 4
        },
        {
         "Survived": 0,
         "Pclass": 1,
         "Age": 54,
         "SibSp": 0,
         "Parch": 0,
         "Fare": 52,
         "is_female": 0,
         "_deepnote_index_column": 6
        },
        {
         "Survived": 0,
         "Pclass": 3,
         "Age": 2,
         "SibSp": 3,
         "Parch": 1,
         "Fare": 21,
         "is_female": 0,
         "_deepnote_index_column": 7
        },
        {
         "Survived": 1,
         "Pclass": 3,
         "Age": 27,
         "SibSp": 0,
         "Parch": 2,
         "Fare": 11,
         "is_female": 1,
         "_deepnote_index_column": 8
        },
        {
         "Survived": 1,
         "Pclass": 2,
         "Age": 14,
         "SibSp": 1,
         "Parch": 0,
         "Fare": 30,
         "is_female": 1,
         "_deepnote_index_column": 9
        },
        {
         "Survived": 1,
         "Pclass": 3,
         "Age": 4,
         "SibSp": 1,
         "Parch": 1,
         "Fare": 17,
         "is_female": 1,
         "_deepnote_index_column": 10
        }
       ]
      },
      "text/plain": "     Survived  Pclass  Age  SibSp  Parch  Fare  is_female\n0           0       3   22      1      0     7          0\n1           1       1   38      1      0    71          1\n2           1       3   26      0      0     8          1\n3           1       1   35      1      0    53          1\n4           0       3   35      0      0     8          0\n..        ...     ...  ...    ...    ...   ...        ...\n885         0       3   39      0      5    29          1\n886         0       2   27      0      0    13          0\n887         1       1   19      0      0    30          1\n889         1       1   26      0      0    30          0\n890         0       3   32      0      0     8          0\n\n[712 rows x 7 columns]",
      "text/html": "<div>\n<style scoped>\n    .dataframe tbody tr th:only-of-type {\n        vertical-align: middle;\n    }\n\n    .dataframe tbody tr th {\n        vertical-align: top;\n    }\n\n    .dataframe thead th {\n        text-align: right;\n    }\n</style>\n<table border=\"1\" class=\"dataframe\">\n  <thead>\n    <tr style=\"text-align: right;\">\n      <th></th>\n      <th>Survived</th>\n      <th>Pclass</th>\n      <th>Age</th>\n      <th>SibSp</th>\n      <th>Parch</th>\n      <th>Fare</th>\n      <th>is_female</th>\n    </tr>\n  </thead>\n  <tbody>\n    <tr>\n      <th>0</th>\n      <td>0</td>\n      <td>3</td>\n      <td>22</td>\n      <td>1</td>\n      <td>0</td>\n      <td>7</td>\n      <td>0</td>\n    </tr>\n    <tr>\n      <th>1</th>\n      <td>1</td>\n      <td>1</td>\n      <td>38</td>\n      <td>1</td>\n      <td>0</td>\n      <td>71</td>\n      <td>1</td>\n    </tr>\n    <tr>\n      <th>2</th>\n      <td>1</td>\n      <td>3</td>\n      <td>26</td>\n      <td>0</td>\n      <td>0</td>\n      <td>8</td>\n      <td>1</td>\n    </tr>\n    <tr>\n      <th>3</th>\n      <td>1</td>\n      <td>1</td>\n      <td>35</td>\n      <td>1</td>\n      <td>0</td>\n      <td>53</td>\n      <td>1</td>\n    </tr>\n    <tr>\n      <th>4</th>\n      <td>0</td>\n      <td>3</td>\n      <td>35</td>\n      <td>0</td>\n      <td>0</td>\n      <td>8</td>\n      <td>0</td>\n    </tr>\n    <tr>\n      <th>...</th>\n      <td>...</td>\n      <td>...</td>\n      <td>...</td>\n      <td>...</td>\n      <td>...</td>\n      <td>...</td>\n      <td>...</td>\n    </tr>\n    <tr>\n      <th>885</th>\n      <td>0</td>\n      <td>3</td>\n      <td>39</td>\n      <td>0</td>\n      <td>5</td>\n      <td>29</td>\n      <td>1</td>\n    </tr>\n    <tr>\n      <th>886</th>\n      <td>0</td>\n      <td>2</td>\n      <td>27</td>\n      <td>0</td>\n      <td>0</td>\n      <td>13</td>\n      <td>0</td>\n    </tr>\n    <tr>\n      <th>887</th>\n      <td>1</td>\n      <td>1</td>\n      <td>19</td>\n      <td>0</td>\n      <td>0</td>\n      <td>30</td>\n      <td>1</td>\n    </tr>\n    <tr>\n      <th>889</th>\n      <td>1</td>\n      <td>1</td>\n      <td>26</td>\n      <td>0</td>\n      <td>0</td>\n      <td>30</td>\n      <td>0</td>\n    </tr>\n    <tr>\n      <th>890</th>\n      <td>0</td>\n      <td>3</td>\n      <td>32</td>\n      <td>0</td>\n      <td>0</td>\n      <td>8</td>\n      <td>0</td>\n    </tr>\n  </tbody>\n</table>\n<p>712 rows × 7 columns</p>\n</div>"
     },
     "metadata": {}
    }
   ]
  },
  {
   "cell_type": "markdown",
   "source": "You may now explore our cleaned data set. ",
   "metadata": {
    "cell_id": "c20903a7066846fbba00a2954c0c3d33",
    "tags": [],
    "deepnote_cell_type": "markdown",
    "deepnote_cell_height": 52.390625
   }
  },
  {
   "cell_type": "markdown",
   "source": "## Training and Validation Split",
   "metadata": {
    "cell_id": "27f2c55aeb1c4b87a5ead75f3b5e2673",
    "tags": [],
    "is_collapsed": false,
    "deepnote_cell_type": "text-cell-h2"
   }
  },
  {
   "cell_type": "markdown",
   "source": "In order to create a model that works well using unseen data (data that wasn't used to create the model), we should split our dataset into two parts, one to create the model, the other to test the model. To acccomplish this, let us use a random sample of 80% of our dataset to create the model and use the remaining 20% to test the model.",
   "metadata": {
    "cell_id": "959845ee1b4c457eaf4f7b54e50d34ff",
    "tags": [],
    "deepnote_cell_type": "markdown",
    "deepnote_cell_height": 97.171875
   }
  },
  {
   "cell_type": "code",
   "metadata": {
    "cell_id": "31eee30b46a146499b2cbab7df552e5a",
    "tags": [],
    "deepnote_to_be_reexecuted": false,
    "source_hash": "7467ee0c",
    "execution_start": 1650910920487,
    "execution_millis": 2,
    "deepnote_cell_type": "code",
    "deepnote_cell_height": 117
   },
   "source": "seed          = 25\ndf_training   = df.sample( frac=0.8, random_state=seed )\ndf_validation = df.drop( df_training.index )",
   "execution_count": 4,
   "outputs": []
  },
  {
   "cell_type": "markdown",
   "source": "Success! No output means no errors.",
   "metadata": {
    "cell_id": "e96ad637914143a0b82d7f384ed14186",
    "tags": [],
    "deepnote_cell_type": "markdown",
    "deepnote_cell_height": 52.390625
   }
  },
  {
   "cell_type": "markdown",
   "source": "## General Model Functions",
   "metadata": {
    "cell_id": "d1d6d9807bad4fdea72bdfdc5cf9a644",
    "tags": [],
    "is_collapsed": false,
    "deepnote_cell_type": "text-cell-h2"
   }
  },
  {
   "cell_type": "markdown",
   "source": "Now, let us define two functions. First, we will define the 'fit_model_to' function to fit a logistic regression model to our training data on provided predictors. Additionally, this function fits a separate model to the standardized predictors so that we may look at this model's coefficients and compare amongst predictors. Second, we will define the 'score_model' function to return the F1 score for the model, when tested on the validation data. \n\nThis F1 score is a way of measuring model success in that it is a balanced measure (geometric mean) of the models precision and recall, which represent the probablity that the result is a true positive given that the test said positive, and the probability that the test would detect a positive result given it is truly positive, respectively.\n",
   "metadata": {
    "cell_id": "fabf5876fb56420088e1a96e8355ab97",
    "tags": [],
    "deepnote_cell_type": "markdown",
    "deepnote_cell_height": 200.734375
   }
  },
  {
   "cell_type": "code",
   "metadata": {
    "cell_id": "8c999d94180b47deae15d20cd93a9e4c",
    "tags": [],
    "deepnote_to_be_reexecuted": false,
    "source_hash": "78c1210b",
    "execution_start": 1650910920502,
    "execution_millis": 3,
    "deepnote_cell_type": "code",
    "deepnote_cell_height": 585
   },
   "source": "def fit_model_to ( training ):\n    # All but response column\n    predictors = training.iloc[:,1:]\n    response = training['Survived']\n    model = LogisticRegression()\n    model.fit( predictors.values, response )\n\n    # fit another model to standardized predictors\n    standardized = ( predictors - predictors.mean() ) / predictors.std()\n    temp_model = LogisticRegression()\n    temp_model.fit( standardized.values, response )\n\n    # get that model's coefficients and display them\n    coeffs = pd.Series( temp_model.coef_[0], index=predictors.columns )\n    sorted = np.abs( coeffs ).sort_values( ascending=False )  \n    coeffs = coeffs.loc[sorted.index]                         \n    print( coeffs )\n\n    # return the model fit to the actual predictors\n    return model\n\ndef score_model ( M, validation ):\n    predictions = M.predict( validation.iloc[:,:-1].values )\n    TP = ( validation['Survived'] & predictions ).sum()\n    FP = ( ~validation['Survived'] & predictions ).sum()\n    FN = ( validation['Survived'] & ~predictions ).sum()\n    precision = TP / ( TP + FP )\n    recall = TP / ( TP + FN )\n    return 2 * precision * recall / ( precision + recall )",
   "execution_count": 5,
   "outputs": []
  },
  {
   "cell_type": "markdown",
   "source": "Success! No output means no errors.",
   "metadata": {
    "cell_id": "26f7404da81d41ba92b91bb77785914d",
    "tags": [],
    "deepnote_cell_type": "markdown",
    "deepnote_cell_height": 52.390625
   }
  },
  {
   "cell_type": "markdown",
   "source": "## Model #1",
   "metadata": {
    "cell_id": "a2dad3908d474fc9b0fe5cf1dea7825f",
    "tags": [],
    "is_collapsed": false,
    "deepnote_cell_type": "text-cell-h2"
   }
  },
  {
   "cell_type": "markdown",
   "source": "The first model we will run is a logistic regression model predicting whether or not an individual survived based on the 'SibSp' and 'Parch' variables, which (according to the data dictionary on Kaggle) represent the individual's number of siblings/spouses and the number of parents/children aboard the Titanic, respectively. To do this, we will use the functions defined in the previous section using the training data consisting of our desired predictors and response columns.",
   "metadata": {
    "cell_id": "b026ca459dbe450999a253d3f64428da",
    "tags": [],
    "deepnote_cell_type": "markdown",
    "deepnote_cell_height": 119.5625
   }
  },
  {
   "cell_type": "code",
   "metadata": {
    "cell_id": "73c2306f72a541258db8e294db666e55",
    "tags": [],
    "deepnote_to_be_reexecuted": false,
    "source_hash": "d9194957",
    "execution_start": 1650910920535,
    "execution_millis": 30,
    "deepnote_cell_type": "code",
    "deepnote_cell_height": 276.75
   },
   "source": "columns = [0, 3, 4]\ndf_training.columns[columns]\n\nmodel = fit_model_to( df_training.iloc[:,columns] )\nscore_model( model, df_training.iloc[:,columns] ), score_model( model, df_validation.iloc[:,columns] )",
   "execution_count": 6,
   "outputs": [
    {
     "name": "stdout",
     "text": "Parch    0.203597\nSibSp   -0.112333\ndtype: float64\n",
     "output_type": "stream"
    },
    {
     "output_type": "execute_result",
     "execution_count": 6,
     "data": {
      "text/plain": "(0.03676470588235294, 0.06153846153846154)"
     },
     "metadata": {}
    }
   ]
  },
  {
   "cell_type": "markdown",
   "source": "Our coefficients indicate that having a greater number of parents or children aboard the Titanic with you positively impacted your chance of survival. On the other hand, these results indicate that having a greater number of siblings or spouses aboard the Titanic with you negatively impacted your chance of survival. \n\nHowever, the F1 values for both the training data itself as well as the validation data are very poor. Let's take a look at a different model. ",
   "metadata": {
    "cell_id": "26784b19dafb4ca38e34c6ab26f4e70d",
    "tags": [],
    "deepnote_cell_type": "markdown",
    "deepnote_cell_height": 155.953125
   }
  },
  {
   "cell_type": "markdown",
   "source": "## Model #2",
   "metadata": {
    "cell_id": "998cda3927f64514bcb5f6d753d29476",
    "tags": [],
    "is_collapsed": false,
    "deepnote_cell_type": "text-cell-h2"
   }
  },
  {
   "cell_type": "markdown",
   "source": "The second model we will run is a logistic regression model predicting whether or not an individual survived based on the 'is_female', 'Age', and 'PClass' variables, which represent the sex of the passenger (1 for female, 0 for male), the age of the passenger rounded to nearest whole year, and the ticket class of the passenger (1 = First, 2 = Second, 3 = Third), respectively. Just like for model 1, we will use the functions defined in the earlier section using the training data consisting of our desired predictors and response columns.",
   "metadata": {
    "cell_id": "2ba31935f498416aaef5ea5974d3ebf1",
    "tags": [],
    "deepnote_cell_type": "markdown",
    "deepnote_cell_height": 141.953125
   }
  },
  {
   "cell_type": "code",
   "metadata": {
    "cell_id": "9bc3f7f983fc4ba483e9ecf62b2a6e69",
    "tags": [],
    "deepnote_to_be_reexecuted": false,
    "source_hash": "b1eeb719",
    "execution_start": 1650910920563,
    "execution_millis": 117,
    "deepnote_cell_type": "code",
    "deepnote_cell_height": 296.9375
   },
   "source": "columns = [0, 1, 2, 6]\ndf_training.columns[columns]\n\nmodel = fit_model_to( df_training.iloc[:,columns] )\nscore_model( model, df_training.iloc[:,columns] ), score_model( model, df_validation.iloc[:,columns] )",
   "execution_count": 7,
   "outputs": [
    {
     "name": "stdout",
     "text": "is_female    1.186353\nPclass      -1.126648\nAge         -0.567376\ndtype: float64\n",
     "output_type": "stream"
    },
    {
     "output_type": "execute_result",
     "execution_count": 7,
     "data": {
      "text/plain": "(0.5838509316770186, 0.5435897435897437)"
     },
     "metadata": {}
    }
   ]
  },
  {
   "cell_type": "markdown",
   "source": "Our coefficients indicate that being a female positively impacted your chance of survival versus being a male. On the other hand, these results indicate that being a lower class (higher numerically, i.e. third class lower than first class) and being older negatively impacted your chance of survival.\n\nNotice that the F1 values are MUCH higher, meaning much better than our first model. From here on, we will be using the predictors of this model in discussion.",
   "metadata": {
    "cell_id": "da6c99c67eb84d56ab0e9e02049c6590",
    "tags": [],
    "deepnote_cell_type": "markdown",
    "deepnote_cell_height": 155.953125
   }
  },
  {
   "cell_type": "markdown",
   "source": "## Discussion of Better Model",
   "metadata": {
    "cell_id": "8b81ee76ef024e58835f4d117a080f2c",
    "tags": [],
    "is_collapsed": false,
    "deepnote_cell_type": "text-cell-h2"
   }
  },
  {
   "cell_type": "markdown",
   "source": "Considering our model of predicting survival using sex, age, and ticket class predictors using the training data did the best amongst experimentation, let us execute logistic regression again using our training data and the same predictors using a different Python library known as pandas. These new results will give us our estimation equation for predicting an individual's probability for survival. ",
   "metadata": {
    "cell_id": "2eae49e017a64393aa2bfa6d9cb105b0",
    "tags": [],
    "deepnote_cell_type": "markdown",
    "deepnote_cell_height": 119.5625
   }
  },
  {
   "cell_type": "code",
   "metadata": {
    "cell_id": "55008e482af74532a593f649e410d147",
    "tags": [],
    "deepnote_to_be_reexecuted": false,
    "source_hash": "34e3a14a",
    "execution_start": 1650910920615,
    "execution_millis": 534,
    "deepnote_cell_type": "code",
    "deepnote_cell_height": 426
   },
   "source": "m2_x = df_training[['Pclass', 'Age', 'is_female']]\ny = df_training['Survived']\n\nm2_summary = pg.logistic_regression(m2_x, y, remove_na=True)\nm2_summary.round(4)",
   "execution_count": 8,
   "outputs": [
    {
     "output_type": "execute_result",
     "execution_count": 8,
     "data": {
      "application/vnd.deepnote.dataframe.v3+json": {
       "column_count": 7,
       "row_count": 4,
       "columns": [
        {
         "name": "names",
         "dtype": "object",
         "stats": {
          "unique_count": 4,
          "nan_count": 0,
          "categories": [
           {
            "name": "Intercept",
            "count": 1
           },
           {
            "name": "Pclass",
            "count": 1
           },
           {
            "name": "2 others",
            "count": 2
           }
          ]
         }
        },
        {
         "name": "coef",
         "dtype": "float64",
         "stats": {
          "unique_count": 4,
          "nan_count": 0,
          "min": "-1.3842",
          "max": "2.848",
          "histogram": [
           {
            "bin_start": -1.3842,
            "bin_end": -0.9609800000000002,
            "count": 1
           },
           {
            "bin_start": -0.9609800000000002,
            "bin_end": -0.5377600000000001,
            "count": 0
           },
           {
            "bin_start": -0.5377600000000001,
            "bin_end": -0.11454000000000009,
            "count": 0
           },
           {
            "bin_start": -0.11454000000000009,
            "bin_end": 0.30867999999999984,
            "count": 1
           },
           {
            "bin_start": 0.30867999999999984,
            "bin_end": 0.7318999999999998,
            "count": 0
           },
           {
            "bin_start": 0.7318999999999998,
            "bin_end": 1.15512,
            "count": 0
           },
           {
            "bin_start": 1.15512,
            "bin_end": 1.5783399999999996,
            "count": 0
           },
           {
            "bin_start": 1.5783399999999996,
            "bin_end": 2.0015599999999996,
            "count": 0
           },
           {
            "bin_start": 2.0015599999999996,
            "bin_end": 2.42478,
            "count": 0
           },
           {
            "bin_start": 2.42478,
            "bin_end": 2.848,
            "count": 2
           }
          ]
         }
        },
        {
         "name": "se",
         "dtype": "float64",
         "stats": {
          "unique_count": 4,
          "nan_count": 0,
          "min": "0.0086",
          "max": "0.5158",
          "histogram": [
           {
            "bin_start": 0.0086,
            "bin_end": 0.05932,
            "count": 1
           },
           {
            "bin_start": 0.05932,
            "bin_end": 0.11004,
            "count": 0
           },
           {
            "bin_start": 0.11004,
            "bin_end": 0.16076000000000001,
            "count": 1
           },
           {
            "bin_start": 0.16076000000000001,
            "bin_end": 0.21148,
            "count": 0
           },
           {
            "bin_start": 0.21148,
            "bin_end": 0.2622,
            "count": 1
           },
           {
            "bin_start": 0.2622,
            "bin_end": 0.31292000000000003,
            "count": 0
           },
           {
            "bin_start": 0.31292000000000003,
            "bin_end": 0.36364,
            "count": 0
           },
           {
            "bin_start": 0.36364,
            "bin_end": 0.41436,
            "count": 0
           },
           {
            "bin_start": 0.41436,
            "bin_end": 0.46508,
            "count": 0
           },
           {
            "bin_start": 0.46508,
            "bin_end": 0.5158,
            "count": 1
           }
          ]
         }
        },
        {
         "name": "z",
         "dtype": "float64",
         "stats": {
          "unique_count": 4,
          "nan_count": 0,
          "min": "-8.6724",
          "max": "10.6466",
          "histogram": [
           {
            "bin_start": -8.6724,
            "bin_end": -6.7405,
            "count": 1
           },
           {
            "bin_start": -6.7405,
            "bin_end": -4.8086,
            "count": 0
           },
           {
            "bin_start": -4.8086,
            "bin_end": -2.8766999999999996,
            "count": 1
           },
           {
            "bin_start": -2.8766999999999996,
            "bin_end": -0.9447999999999999,
            "count": 0
           },
           {
            "bin_start": -0.9447999999999999,
            "bin_end": 0.9870999999999999,
            "count": 0
           },
           {
            "bin_start": 0.9870999999999999,
            "bin_end": 2.9190000000000005,
            "count": 0
           },
           {
            "bin_start": 2.9190000000000005,
            "bin_end": 4.850899999999999,
            "count": 0
           },
           {
            "bin_start": 4.850899999999999,
            "bin_end": 6.7828,
            "count": 1
           },
           {
            "bin_start": 6.7828,
            "bin_end": 8.7147,
            "count": 0
           },
           {
            "bin_start": 8.7147,
            "bin_end": 10.6466,
            "count": 1
           }
          ]
         }
        },
        {
         "name": "pval",
         "dtype": "float64",
         "stats": {
          "unique_count": 1,
          "nan_count": 0,
          "min": "0.0",
          "max": "0.0",
          "histogram": [
           {
            "bin_start": -0.5,
            "bin_end": -0.4,
            "count": 0
           },
           {
            "bin_start": -0.4,
            "bin_end": -0.3,
            "count": 0
           },
           {
            "bin_start": -0.3,
            "bin_end": -0.19999999999999996,
            "count": 0
           },
           {
            "bin_start": -0.19999999999999996,
            "bin_end": -0.09999999999999998,
            "count": 0
           },
           {
            "bin_start": -0.09999999999999998,
            "bin_end": 0,
            "count": 0
           },
           {
            "bin_start": 0,
            "bin_end": 0.10000000000000009,
            "count": 4
           },
           {
            "bin_start": 0.10000000000000009,
            "bin_end": 0.20000000000000007,
            "count": 0
           },
           {
            "bin_start": 0.20000000000000007,
            "bin_end": 0.30000000000000004,
            "count": 0
           },
           {
            "bin_start": 0.30000000000000004,
            "bin_end": 0.4,
            "count": 0
           },
           {
            "bin_start": 0.4,
            "bin_end": 0.5,
            "count": 0
           }
          ]
         }
        },
        {
         "name": "CI[2.5%]",
         "dtype": "float64",
         "stats": {
          "unique_count": 4,
          "nan_count": 0,
          "min": "-1.697",
          "max": "2.0347",
          "histogram": [
           {
            "bin_start": -1.697,
            "bin_end": -1.32383,
            "count": 1
           },
           {
            "bin_start": -1.32383,
            "bin_end": -0.9506600000000001,
            "count": 0
           },
           {
            "bin_start": -0.9506600000000001,
            "bin_end": -0.5774900000000001,
            "count": 0
           },
           {
            "bin_start": -0.5774900000000001,
            "bin_end": -0.20432000000000006,
            "count": 0
           },
           {
            "bin_start": -0.20432000000000006,
            "bin_end": 0.16884999999999994,
            "count": 1
           },
           {
            "bin_start": 0.16884999999999994,
            "bin_end": 0.54202,
            "count": 0
           },
           {
            "bin_start": 0.54202,
            "bin_end": 0.91519,
            "count": 0
           },
           {
            "bin_start": 0.91519,
            "bin_end": 1.28836,
            "count": 0
           },
           {
            "bin_start": 1.28836,
            "bin_end": 1.66153,
            "count": 0
           },
           {
            "bin_start": 1.66153,
            "bin_end": 2.0347,
            "count": 2
           }
          ]
         }
        },
        {
         "name": "CI[97.5%]",
         "dtype": "float64",
         "stats": {
          "unique_count": 4,
          "nan_count": 0,
          "min": "-1.0714",
          "max": "3.859",
          "histogram": [
           {
            "bin_start": -1.0714,
            "bin_end": -0.57836,
            "count": 1
           },
           {
            "bin_start": -0.57836,
            "bin_end": -0.08531999999999995,
            "count": 0
           },
           {
            "bin_start": -0.08531999999999995,
            "bin_end": 0.4077200000000001,
            "count": 1
           },
           {
            "bin_start": 0.4077200000000001,
            "bin_end": 0.90076,
            "count": 0
           },
           {
            "bin_start": 0.90076,
            "bin_end": 1.3938,
            "count": 0
           },
           {
            "bin_start": 1.3938,
            "bin_end": 1.88684,
            "count": 0
           },
           {
            "bin_start": 1.88684,
            "bin_end": 2.37988,
            "count": 0
           },
           {
            "bin_start": 2.37988,
            "bin_end": 2.8729199999999997,
            "count": 0
           },
           {
            "bin_start": 2.8729199999999997,
            "bin_end": 3.3659600000000003,
            "count": 1
           },
           {
            "bin_start": 3.3659600000000003,
            "bin_end": 3.859,
            "count": 1
           }
          ]
         }
        },
        {
         "name": "_deepnote_index_column",
         "dtype": "int64"
        }
       ],
       "rows": [
        {
         "names": "Intercept",
         "coef": 2.848,
         "se": 0.5158,
         "z": 5.5216,
         "pval": 0,
         "CI[2.5%]": 1.8371,
         "CI[97.5%]": 3.859,
         "_deepnote_index_column": 0
        },
        {
         "names": "Pclass",
         "coef": -1.3842,
         "se": 0.1596,
         "z": -8.6724,
         "pval": 0,
         "CI[2.5%]": -1.697,
         "CI[97.5%]": -1.0714,
         "_deepnote_index_column": 1
        },
        {
         "names": "Age",
         "coef": -0.0405,
         "se": 0.0086,
         "z": -4.6896,
         "pval": 0,
         "CI[2.5%]": -0.0574,
         "CI[97.5%]": -0.0236,
         "_deepnote_index_column": 2
        },
        {
         "names": "is_female",
         "coef": 2.4938,
         "se": 0.2342,
         "z": 10.6466,
         "pval": 0,
         "CI[2.5%]": 2.0347,
         "CI[97.5%]": 2.9529,
         "_deepnote_index_column": 3
        }
       ]
      },
      "text/plain": "       names    coef      se        z  pval  CI[2.5%]  CI[97.5%]\n0  Intercept  2.8480  0.5158   5.5216   0.0    1.8371     3.8590\n1     Pclass -1.3842  0.1596  -8.6724   0.0   -1.6970    -1.0714\n2        Age -0.0405  0.0086  -4.6896   0.0   -0.0574    -0.0236\n3  is_female  2.4938  0.2342  10.6466   0.0    2.0347     2.9529",
      "text/html": "<div>\n<style scoped>\n    .dataframe tbody tr th:only-of-type {\n        vertical-align: middle;\n    }\n\n    .dataframe tbody tr th {\n        vertical-align: top;\n    }\n\n    .dataframe thead th {\n        text-align: right;\n    }\n</style>\n<table border=\"1\" class=\"dataframe\">\n  <thead>\n    <tr style=\"text-align: right;\">\n      <th></th>\n      <th>names</th>\n      <th>coef</th>\n      <th>se</th>\n      <th>z</th>\n      <th>pval</th>\n      <th>CI[2.5%]</th>\n      <th>CI[97.5%]</th>\n    </tr>\n  </thead>\n  <tbody>\n    <tr>\n      <th>0</th>\n      <td>Intercept</td>\n      <td>2.8480</td>\n      <td>0.5158</td>\n      <td>5.5216</td>\n      <td>0.0</td>\n      <td>1.8371</td>\n      <td>3.8590</td>\n    </tr>\n    <tr>\n      <th>1</th>\n      <td>Pclass</td>\n      <td>-1.3842</td>\n      <td>0.1596</td>\n      <td>-8.6724</td>\n      <td>0.0</td>\n      <td>-1.6970</td>\n      <td>-1.0714</td>\n    </tr>\n    <tr>\n      <th>2</th>\n      <td>Age</td>\n      <td>-0.0405</td>\n      <td>0.0086</td>\n      <td>-4.6896</td>\n      <td>0.0</td>\n      <td>-0.0574</td>\n      <td>-0.0236</td>\n    </tr>\n    <tr>\n      <th>3</th>\n      <td>is_female</td>\n      <td>2.4938</td>\n      <td>0.2342</td>\n      <td>10.6466</td>\n      <td>0.0</td>\n      <td>2.0347</td>\n      <td>2.9529</td>\n    </tr>\n  </tbody>\n</table>\n</div>"
     },
     "metadata": {}
    }
   ]
  },
  {
   "cell_type": "markdown",
   "source": "Please note that the intercept and coefficients represent log-odds. For instance, the age coefficent of -0.0405 means that for every increase in one year of age, your odds of survival are multiplied by 0.9603 (see calculation below). This aligns with what was mentioned before in that being an older passenger on the Titanic negatively impacted their chance of survival.",
   "metadata": {
    "cell_id": "81a3dea60fe34059bbf6c9d688d5ee55",
    "tags": [],
    "deepnote_cell_type": "markdown",
    "deepnote_cell_height": 119.5625
   }
  },
  {
   "cell_type": "code",
   "source": "np.exp(-0.0405)",
   "metadata": {
    "cell_id": "eceab15054db4aed91bd7ad02bf8f0d7",
    "tags": [],
    "deepnote_to_be_reexecuted": false,
    "source_hash": "a9d16d65",
    "execution_start": 1650910920763,
    "execution_millis": 386,
    "deepnote_cell_type": "code",
    "deepnote_cell_height": 118.1875
   },
   "outputs": [
    {
     "output_type": "execute_result",
     "execution_count": 9,
     "data": {
      "text/plain": "0.960309164511413"
     },
     "metadata": {}
    }
   ],
   "execution_count": 9
  },
  {
   "cell_type": "markdown",
   "source": "To visualize this further, let's plot the simple logistic regression line for age prediciting survival.",
   "metadata": {
    "cell_id": "220cb2ad19a44ab4a328db813b3d5b35",
    "tags": [],
    "deepnote_cell_type": "markdown",
    "deepnote_cell_height": 52.390625
   }
  },
  {
   "cell_type": "code",
   "source": "x = df_training['Age']\ny = df_training['Survived']\n\nsns.regplot(x=x, y=y, data=df_training, logistic=True, ci=None,\n            scatter_kws={'color': 'black'}, line_kws={'color': 'red'})",
   "metadata": {
    "cell_id": "c368c39733fe45918aaff4570dbf58a6",
    "tags": [],
    "deepnote_to_be_reexecuted": false,
    "source_hash": "e1254cce",
    "execution_start": 1650910920764,
    "execution_millis": 386,
    "deepnote_cell_type": "code",
    "deepnote_cell_height": 485.1875,
    "deepnote_output_heights": [
     21.1875,
     264
    ]
   },
   "outputs": [
    {
     "output_type": "execute_result",
     "execution_count": 10,
     "data": {
      "text/plain": "<AxesSubplot:xlabel='Age', ylabel='Survived'>"
     },
     "metadata": {}
    },
    {
     "data": {
      "text/plain": "<Figure size 432x288 with 1 Axes>",
      "image/png": "[encoded data removed]"
     },
     "metadata": {
      "needs_background": "light",
      "image/png": {
       "width": 386,
       "height": 262
      }
     },
     "output_type": "display_data"
    }
   ],
   "execution_count": 10
  },
  {
   "cell_type": "markdown",
   "source": "Again, we can see that as age increases, a passenger's likelihood of survival decreases.",
   "metadata": {
    "cell_id": "2e282da2af524706b2442ed7e75609e0",
    "tags": [],
    "owner_user_id": "5ab59c66-6016-4a0f-935e-0d150bd6156b",
    "deepnote_cell_type": "markdown",
    "deepnote_cell_height": 104.390625
   }
  },
  {
   "cell_type": "markdown",
   "source": "That said, using the logistic model we produced using Pingoin, our equation for predicting an individuals probability of survival is as follows:\n\n(1 / (1 + np.exp(-(2.848 +  (-1.3842 * Pclass) + (-0.0405 * age) + (2.4938 * is_female))))) * 100\n\nFor instance, let us calculate the odds of survival for a 21 year old male in first class:",
   "metadata": {
    "cell_id": "4839baffe5d94f95bbe34b13e8559df8",
    "tags": [],
    "deepnote_cell_type": "markdown",
    "deepnote_cell_height": 147.5625
   }
  },
  {
   "cell_type": "code",
   "source": "(1 / (1 + np.exp(-(2.848 + (-1.3842 * 1) + (-0.0405 * 21) + (2.4938 * 0))))) * 100",
   "metadata": {
    "cell_id": "09af0e1e68a0487bb05f147d31e86711",
    "tags": [],
    "deepnote_to_be_reexecuted": false,
    "source_hash": "2aa47181",
    "execution_start": 1650910921023,
    "execution_millis": 131,
    "deepnote_cell_type": "code",
    "deepnote_cell_height": 118.1875,
    "deepnote_output_heights": [
     21.1875
    ]
   },
   "outputs": [
    {
     "output_type": "execute_result",
     "execution_count": 11,
     "data": {
      "text/plain": "64.86932086824051"
     },
     "metadata": {}
    }
   ],
   "execution_count": 11
  },
  {
   "cell_type": "markdown",
   "source": "According to our model, a 21 year old male in first class had approximately a 64.87% chance of surviving the wreck of the Titanic. Please visit LINK to discover likelihoods for individuals with different demographics. ",
   "metadata": {
    "cell_id": "e2dd917c5492424ba44387e94b92e5bd",
    "tags": [],
    "deepnote_cell_type": "markdown",
    "deepnote_cell_height": 74.78125
   }
  },
  {
   "cell_type": "markdown",
   "source": "<a style='text-decoration:none;line-height:16px;display:flex;color:#5B5B62;padding:10px;justify-content:end;' href='https://deepnote.com?utm_source=created-in-deepnote-cell&projectId=a75109f5-32ac-4a65-be21-b78b560cfd1f' target=\"_blank\">\n<img alt='Created in deepnote.com' style='display:inline;max-height:16px;margin:0px;margin-right:7.5px;' src='data:image/svg+xml;base64,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' > </img>\nCreated in <span style='font-weight:600;margin-left:4px;'>Deepnote</span></a>",
   "metadata": {
    "tags": [],
    "created_in_deepnote_cell": true,
    "deepnote_cell_type": "markdown"
   }
  }
 ],
 "nbformat": 4,
 "nbformat_minor": 2,
 "metadata": {
  "orig_nbformat": 2,
  "deepnote": {},
  "deepnote_notebook_id": "a63c2179-2c8d-44d2-a19c-79a7fe3c012c",
  "deepnote_execution_queue": []
 }
}